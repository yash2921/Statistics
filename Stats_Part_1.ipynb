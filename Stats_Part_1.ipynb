{
  "nbformat": 4,
  "nbformat_minor": 0,
  "metadata": {
    "colab": {
      "provenance": []
    },
    "kernelspec": {
      "name": "python3",
      "display_name": "Python 3"
    },
    "language_info": {
      "name": "python"
    }
  },
  "cells": [
    {
      "cell_type": "markdown",
      "source": [
        "## Statistics Practical Implementation\n",
        "### Measure Of Central Tendency\n",
        "\n",
        "1. Mean\n",
        "2. Median\n",
        "3. Mode"
      ],
      "metadata": {
        "id": "aBzEeJtZ1QgV"
      }
    },
    {
      "cell_type": "code",
      "execution_count": null,
      "metadata": {
        "id": "LF5y_Cqa1PG4"
      },
      "outputs": [],
      "source": [
        "ages=[23,24,32,45,12,43,67,45,32,56,32,120]"
      ]
    },
    {
      "cell_type": "code",
      "source": [
        "import numpy as np\n",
        "print(np.mean(ages))\n",
        "print(np.median(ages))"
      ],
      "metadata": {
        "colab": {
          "base_uri": "https://localhost:8080/"
        },
        "id": "-YmAmC-E19Yt",
        "outputId": "799fec04-af6d-4265-891e-714f7bd3da65"
      },
      "execution_count": null,
      "outputs": [
        {
          "output_type": "stream",
          "name": "stdout",
          "text": [
            "44.25\n",
            "37.5\n"
          ]
        }
      ]
    },
    {
      "cell_type": "code",
      "source": [
        "import statistics\n",
        "print(statistics.mean(ages))\n",
        "print(statistics.median(ages))"
      ],
      "metadata": {
        "colab": {
          "base_uri": "https://localhost:8080/"
        },
        "id": "AgM0_NKVu5o2",
        "outputId": "afcfba2b-7a98-405d-f9a7-5db41944aaa5"
      },
      "execution_count": null,
      "outputs": [
        {
          "output_type": "stream",
          "name": "stdout",
          "text": [
            "44.25\n",
            "37.5\n"
          ]
        }
      ]
    },
    {
      "cell_type": "code",
      "source": [
        "import statistics\n",
        "statistics.mode(ages)"
      ],
      "metadata": {
        "colab": {
          "base_uri": "https://localhost:8080/"
        },
        "id": "aHMGP9hi2C_B",
        "outputId": "97897761-ea43-4892-a8c6-d43a7c2853d5"
      },
      "execution_count": null,
      "outputs": [
        {
          "output_type": "execute_result",
          "data": {
            "text/plain": [
              "32"
            ]
          },
          "metadata": {},
          "execution_count": 11
        }
      ]
    },
    {
      "cell_type": "code",
      "source": [
        "import seaborn as sns\n",
        "sns.boxplot(ages)"
      ],
      "metadata": {
        "colab": {
          "base_uri": "https://localhost:8080/",
          "height": 337
        },
        "id": "Pu6GItAi-0W_",
        "outputId": "df35022f-5b26-4fc3-9ce8-a429f93f5db6"
      },
      "execution_count": null,
      "outputs": [
        {
          "output_type": "stream",
          "name": "stderr",
          "text": [
            "/usr/local/lib/python3.7/dist-packages/seaborn/_decorators.py:43: FutureWarning: Pass the following variable as a keyword arg: x. From version 0.12, the only valid positional argument will be `data`, and passing other arguments without an explicit keyword will result in an error or misinterpretation.\n",
            "  FutureWarning\n"
          ]
        },
        {
          "output_type": "execute_result",
          "data": {
            "text/plain": [
              "<matplotlib.axes._subplots.AxesSubplot at 0x7fb600181f10>"
            ]
          },
          "metadata": {},
          "execution_count": 12
        },
        {
          "output_type": "display_data",
          "data": {
            "text/plain": [
              "<Figure size 432x288 with 1 Axes>"
            ],
            "image/png": "[encoded data removed]"
          },
          "metadata": {
            "needs_background": "light"
          }
        }
      ]
    },
    {
      "cell_type": "markdown",
      "source": [
        "## 5 Number Summary"
      ],
      "metadata": {
        "id": "Ax1byB8X-9Zx"
      }
    },
    {
      "cell_type": "code",
      "source": [
        "import numpy as np\n",
        "q1,q3=np.percentile(ages,[25,75])"
      ],
      "metadata": {
        "id": "sxwTD-Gh_LXK"
      },
      "execution_count": null,
      "outputs": []
    },
    {
      "cell_type": "code",
      "source": [
        "print(q1,q3)"
      ],
      "metadata": {
        "colab": {
          "base_uri": "https://localhost:8080/"
        },
        "id": "vOq44jqxwHMG",
        "outputId": "9a50854a-8f31-4cf5-941f-42a3e4ab7fe4"
      },
      "execution_count": null,
      "outputs": [
        {
          "output_type": "stream",
          "name": "stdout",
          "text": [
            "30.0 47.75\n"
          ]
        }
      ]
    },
    {
      "cell_type": "code",
      "source": [
        "## to check outlier[Lower Fence- Higher fence]\n",
        "IQR=q3-q1\n",
        "lower_fence=q1-1.5*(IQR)\n",
        "higher_fence=q3+1.5*(IQR)\n",
        "print(lower_fence,higher_fence)"
      ],
      "metadata": {
        "colab": {
          "base_uri": "https://localhost:8080/"
        },
        "id": "m0_tRaoL-799",
        "outputId": "f6e921db-16d2-44b9-fa29-f93b33da8863"
      },
      "execution_count": null,
      "outputs": [
        {
          "output_type": "stream",
          "name": "stdout",
          "text": [
            "3.375 74.375\n"
          ]
        }
      ]
    },
    {
      "cell_type": "markdown",
      "source": [
        "## Measure Of Dispersion\n",
        "\n",
        "1. Variance\n",
        "2. Standard Deviation"
      ],
      "metadata": {
        "id": "F3-odFdu2bjJ"
      }
    },
    {
      "cell_type": "code",
      "source": [
        "statistics.variance(ages)"
      ],
      "metadata": {
        "colab": {
          "base_uri": "https://localhost:8080/"
        },
        "id": "rXhRNEQ-2Sp-",
        "outputId": "226b05ab-7f23-4e20-8699-1fb7e9a17e25"
      },
      "execution_count": null,
      "outputs": [
        {
          "output_type": "execute_result",
          "data": {
            "text/plain": [
              "795.2954545454545"
            ]
          },
          "metadata": {},
          "execution_count": 16
        }
      ]
    },
    {
      "cell_type": "code",
      "source": [
        "np.var(ages,axis=0)"
      ],
      "metadata": {
        "colab": {
          "base_uri": "https://localhost:8080/"
        },
        "id": "2ewjpIDg2ZFu",
        "outputId": "b1a2ea95-ee8f-49cf-9d8d-6fcf85e1b583"
      },
      "execution_count": null,
      "outputs": [
        {
          "output_type": "execute_result",
          "data": {
            "text/plain": [
              "729.0208333333334"
            ]
          },
          "metadata": {},
          "execution_count": 17
        }
      ]
    },
    {
      "cell_type": "code",
      "source": [
        "def variance(data):\n",
        "  n=len(ages)\n",
        "  ## mean of the data\n",
        "  mean=sum(data)/n\n",
        "  ## variance\n",
        "  deviation=[(x - mean) ** 2 for x in data]\n",
        "  variance=sum(deviation)/(n-1)\n",
        "  return variance\n",
        "\n"
      ],
      "metadata": {
        "id": "rSKzGPnT2_a2"
      },
      "execution_count": null,
      "outputs": []
    },
    {
      "cell_type": "code",
      "source": [
        "variance(ages)"
      ],
      "metadata": {
        "colab": {
          "base_uri": "https://localhost:8080/"
        },
        "id": "EKkHYpNs8sSJ",
        "outputId": "cd4a313f-fbbd-4494-ef2b-3664a55b8173"
      },
      "execution_count": null,
      "outputs": [
        {
          "output_type": "execute_result",
          "data": {
            "text/plain": [
              "795.2954545454545"
            ]
          },
          "metadata": {},
          "execution_count": 23
        }
      ]
    },
    {
      "cell_type": "code",
      "source": [
        "def variance(data,dof=0):\n",
        "  n=len(ages)\n",
        "  ## mean of the data\n",
        "  mean=sum(data)/n\n",
        "  ## variance\n",
        "  deviation=[(x - mean) ** 2 for x in data]\n",
        "  variance=sum(deviation)/(n-dof)\n",
        "  return variance\n"
      ],
      "metadata": {
        "id": "81mbCI_P8uq2"
      },
      "execution_count": null,
      "outputs": []
    },
    {
      "cell_type": "code",
      "source": [
        "variance(ages,dof=1)"
      ],
      "metadata": {
        "colab": {
          "base_uri": "https://localhost:8080/"
        },
        "id": "J-brwV2m9Ntk",
        "outputId": "38085b07-1934-466a-ee5e-c8f416a5da96"
      },
      "execution_count": null,
      "outputs": [
        {
          "output_type": "execute_result",
          "data": {
            "text/plain": [
              "795.2954545454545"
            ]
          },
          "metadata": {},
          "execution_count": 25
        }
      ]
    },
    {
      "cell_type": "code",
      "source": [
        "statistics.pvariance(ages)"
      ],
      "metadata": {
        "colab": {
          "base_uri": "https://localhost:8080/"
        },
        "id": "ep98t8LI9Q-r",
        "outputId": "73301b89-d0a3-4a76-a1ca-e014242ef78d"
      },
      "execution_count": null,
      "outputs": [
        {
          "output_type": "execute_result",
          "data": {
            "text/plain": [
              "729.0208333333334"
            ]
          },
          "metadata": {},
          "execution_count": 26
        }
      ]
    },
    {
      "cell_type": "code",
      "source": [
        "import math\n",
        "math.sqrt(statistics.pvariance(ages))"
      ],
      "metadata": {
        "colab": {
          "base_uri": "https://localhost:8080/"
        },
        "id": "5VsPrFUb9cej",
        "outputId": "125ee71c-486f-45d9-934d-a0434baa2ef1"
      },
      "execution_count": null,
      "outputs": [
        {
          "output_type": "execute_result",
          "data": {
            "text/plain": [
              "27.000385799712813"
            ]
          },
          "metadata": {},
          "execution_count": 27
        }
      ]
    },
    {
      "cell_type": "markdown",
      "source": [
        "## Histograms And PDF"
      ],
      "metadata": {
        "id": "pQ3SUFctALaL"
      }
    },
    {
      "cell_type": "code",
      "source": [
        "import seaborn as sns\n",
        "sns.histplot(ages,kde=True)"
      ],
      "metadata": {
        "colab": {
          "base_uri": "https://localhost:8080/",
          "height": 282
        },
        "id": "MWKY0dqM-vG9",
        "outputId": "4b119e1a-d61b-404c-90b9-27fd70a8c5ad"
      },
      "execution_count": null,
      "outputs": [
        {
          "output_type": "execute_result",
          "data": {
            "text/plain": [
              "<matplotlib.axes._subplots.AxesSubplot at 0x7fb5ff20c8d0>"
            ]
          },
          "metadata": {},
          "execution_count": 29
        },
        {
          "output_type": "display_data",
          "data": {
            "text/plain": [
              "<Figure size 432x288 with 1 Axes>"
            ],
            "image/png": "[encoded data removed]"
          },
          "metadata": {
            "needs_background": "light"
          }
        }
      ]
    },
    {
      "cell_type": "code",
      "source": [
        "df=sns.load_dataset('iris')"
      ],
      "metadata": {
        "id": "0bgcONGPARcc"
      },
      "execution_count": null,
      "outputs": []
    },
    {
      "cell_type": "code",
      "source": [
        "df.head()"
      ],
      "metadata": {
        "colab": {
          "base_uri": "https://localhost:8080/",
          "height": 206
        },
        "id": "nz3EBWVEAaLH",
        "outputId": "c64b421d-935c-4966-8de3-d46e3abfd42a"
      },
      "execution_count": null,
      "outputs": [
        {
          "output_type": "execute_result",
          "data": {
            "text/plain": [
              "   sepal_length  sepal_width  petal_length  petal_width species\n",
              "0           5.1          3.5           1.4          0.2  setosa\n",
              "1           4.9          3.0           1.4          0.2  setosa\n",
              "2           4.7          3.2           1.3          0.2  setosa\n",
              "3           4.6          3.1           1.5          0.2  setosa\n",
              "4           5.0          3.6           1.4          0.2  setosa"
            ],
            "text/html": [
              "\n",
              "  <div id=\"df-53b3558f-b84a-4134-b9df-f471d9d4c3a6\">\n",
              "    <div class=\"colab-df-container\">\n",
              "      <div>\n",
              "<style scoped>\n",
              "    .dataframe tbody tr th:only-of-type {\n",
              "        vertical-align: middle;\n",
              "    }\n",
              "\n",
              "    .dataframe tbody tr th {\n",
              "        vertical-align: top;\n",
              "    }\n",
              "\n",
              "    .dataframe thead th {\n",
              "        text-align: right;\n",
              "    }\n",
              "</style>\n",
              "<table border=\"1\" class=\"dataframe\">\n",
              "  <thead>\n",
              "    <tr style=\"text-align: right;\">\n",
              "      <th></th>\n",
              "      <th>sepal_length</th>\n",
              "      <th>sepal_width</th>\n",
              "      <th>petal_length</th>\n",
              "      <th>petal_width</th>\n",
              "      <th>species</th>\n",
              "    </tr>\n",
              "  </thead>\n",
              "  <tbody>\n",
              "    <tr>\n",
              "      <th>0</th>\n",
              "      <td>5.1</td>\n",
              "      <td>3.5</td>\n",
              "      <td>1.4</td>\n",
              "      <td>0.2</td>\n",
              "      <td>setosa</td>\n",
              "    </tr>\n",
              "    <tr>\n",
              "      <th>1</th>\n",
              "      <td>4.9</td>\n",
              "      <td>3.0</td>\n",
              "      <td>1.4</td>\n",
              "      <td>0.2</td>\n",
              "      <td>setosa</td>\n",
              "    </tr>\n",
              "    <tr>\n",
              "      <th>2</th>\n",
              "      <td>4.7</td>\n",
              "      <td>3.2</td>\n",
              "      <td>1.3</td>\n",
              "      <td>0.2</td>\n",
              "      <td>setosa</td>\n",
              "    </tr>\n",
              "    <tr>\n",
              "      <th>3</th>\n",
              "      <td>4.6</td>\n",
              "      <td>3.1</td>\n",
              "      <td>1.5</td>\n",
              "      <td>0.2</td>\n",
              "      <td>setosa</td>\n",
              "    </tr>\n",
              "    <tr>\n",
              "      <th>4</th>\n",
              "      <td>5.0</td>\n",
              "      <td>3.6</td>\n",
              "      <td>1.4</td>\n",
              "      <td>0.2</td>\n",
              "      <td>setosa</td>\n",
              "    </tr>\n",
              "  </tbody>\n",
              "</table>\n",
              "</div>\n",
              "      <button class=\"colab-df-convert\" onclick=\"convertToInteractive('df-53b3558f-b84a-4134-b9df-f471d9d4c3a6')\"\n",
              "              title=\"Convert this dataframe to an interactive table.\"\n",
              "              style=\"display:none;\">\n",
              "        \n",
              "  <svg xmlns=\"http://www.w3.org/2000/svg\" height=\"24px\"viewBox=\"0 0 24 24\"\n",
              "       width=\"24px\">\n",
              "    <path d=\"M0 0h24v24H0V0z\" fill=\"none\"/>\n",
              "    <path d=\"M18.56 5.44l.94 2.06.94-2.06 2.06-.94-2.06-.94-.94-2.06-.94 2.06-2.06.94zm-11 1L8.5 8.5l.94-2.06 2.06-.94-2.06-.94L8.5 2.5l-.94 2.06-2.06.94zm10 10l.94 2.06.94-2.06 2.06-.94-2.06-.94-.94-2.06-.94 2.06-2.06.94z\"/><path d=\"M17.41 7.96l-1.37-1.37c-.4-.4-.92-.59-1.43-.59-.52 0-1.04.2-1.43.59L10.3 9.45l-7.72 7.72c-.78.78-.78 2.05 0 2.83L4 21.41c.39.39.9.59 1.41.59.51 0 1.02-.2 1.41-.59l7.78-7.78 2.81-2.81c.8-.78.8-2.07 0-2.86zM5.41 20L4 18.59l7.72-7.72 1.47 1.35L5.41 20z\"/>\n",
              "  </svg>\n",
              "      </button>\n",
              "      \n",
              "  <style>\n",
              "    .colab-df-container {\n",
              "      display:flex;\n",
              "      flex-wrap:wrap;\n",
              "      gap: 12px;\n",
              "    }\n",
              "\n",
              "    .colab-df-convert {\n",
              "      background-color: #E8F0FE;\n",
              "      border: none;\n",
              "      border-radius: 50%;\n",
              "      cursor: pointer;\n",
              "      display: none;\n",
              "      fill: #1967D2;\n",
              "      height: 32px;\n",
              "      padding: 0 0 0 0;\n",
              "      width: 32px;\n",
              "    }\n",
              "\n",
              "    .colab-df-convert:hover {\n",
              "      background-color: #E2EBFA;\n",
              "      box-shadow: 0px 1px 2px rgba(60, 64, 67, 0.3), 0px 1px 3px 1px rgba(60, 64, 67, 0.15);\n",
              "      fill: #174EA6;\n",
              "    }\n",
              "\n",
              "    [theme=dark] .colab-df-convert {\n",
              "      background-color: #3B4455;\n",
              "      fill: #D2E3FC;\n",
              "    }\n",
              "\n",
              "    [theme=dark] .colab-df-convert:hover {\n",
              "      background-color: #434B5C;\n",
              "      box-shadow: 0px 1px 3px 1px rgba(0, 0, 0, 0.15);\n",
              "      filter: drop-shadow(0px 1px 2px rgba(0, 0, 0, 0.3));\n",
              "      fill: #FFFFFF;\n",
              "    }\n",
              "  </style>\n",
              "\n",
              "      <script>\n",
              "        const buttonEl =\n",
              "          document.querySelector('#df-53b3558f-b84a-4134-b9df-f471d9d4c3a6 button.colab-df-convert');\n",
              "        buttonEl.style.display =\n",
              "          google.colab.kernel.accessAllowed ? 'block' : 'none';\n",
              "\n",
              "        async function convertToInteractive(key) {\n",
              "          const element = document.querySelector('#df-53b3558f-b84a-4134-b9df-f471d9d4c3a6');\n",
              "          const dataTable =\n",
              "            await google.colab.kernel.invokeFunction('convertToInteractive',\n",
              "                                                     [key], {});\n",
              "          if (!dataTable) return;\n",
              "\n",
              "          const docLinkHtml = 'Like what you see? Visit the ' +\n",
              "            '<a target=\"_blank\" href=https://colab.research.google.com/notebooks/data_table.ipynb>data table notebook</a>'\n",
              "            + ' to learn more about interactive tables.';\n",
              "          element.innerHTML = '';\n",
              "          dataTable['output_type'] = 'display_data';\n",
              "          await google.colab.output.renderOutput(dataTable, element);\n",
              "          const docLink = document.createElement('div');\n",
              "          docLink.innerHTML = docLinkHtml;\n",
              "          element.appendChild(docLink);\n",
              "        }\n",
              "      </script>\n",
              "    </div>\n",
              "  </div>\n",
              "  "
            ]
          },
          "metadata": {},
          "execution_count": 31
        }
      ]
    },
    {
      "cell_type": "code",
      "source": [
        "sns.histplot(df['sepal_length'],kde=True)"
      ],
      "metadata": {
        "colab": {
          "base_uri": "https://localhost:8080/",
          "height": 297
        },
        "id": "0RMmuwn8Ad7n",
        "outputId": "f95cdb34-77db-4e9d-c1f5-b66ab3ae4ebb"
      },
      "execution_count": null,
      "outputs": [
        {
          "output_type": "execute_result",
          "data": {
            "text/plain": [
              "<matplotlib.axes._subplots.AxesSubplot at 0x7fb5fece6cd0>"
            ]
          },
          "metadata": {},
          "execution_count": 32
        },
        {
          "output_type": "display_data",
          "data": {
            "text/plain": [
              "<Figure size 432x288 with 1 Axes>"
            ],
            "image/png": "[encoded data removed]"
          },
          "metadata": {
            "needs_background": "light"
          }
        }
      ]
    },
    {
      "cell_type": "code",
      "source": [
        "sns.histplot(df['sepal_width'],kde=True)"
      ],
      "metadata": {
        "colab": {
          "base_uri": "https://localhost:8080/",
          "height": 297
        },
        "id": "gl0dQ9z-Agyt",
        "outputId": "cd2c7763-0e71-4e9d-f4a5-c19208ffa1c6"
      },
      "execution_count": null,
      "outputs": [
        {
          "output_type": "execute_result",
          "data": {
            "text/plain": [
              "<matplotlib.axes._subplots.AxesSubplot at 0x7fb5fec7ed50>"
            ]
          },
          "metadata": {},
          "execution_count": 33
        },
        {
          "output_type": "display_data",
          "data": {
            "text/plain": [
              "<Figure size 432x288 with 1 Axes>"
            ],
            "image/png": "[encoded data removed]"
          },
          "metadata": {
            "needs_background": "light"
          }
        }
      ]
    },
    {
      "cell_type": "code",
      "source": [
        "sns.histplot(df['petal_length'],kde=True)"
      ],
      "metadata": {
        "colab": {
          "base_uri": "https://localhost:8080/",
          "height": 297
        },
        "id": "lB_qovnGAufn",
        "outputId": "8a0127fc-e76b-4e96-e5ce-a26a142c5004"
      },
      "execution_count": null,
      "outputs": [
        {
          "output_type": "execute_result",
          "data": {
            "text/plain": [
              "<matplotlib.axes._subplots.AxesSubplot at 0x7fb5fec118d0>"
            ]
          },
          "metadata": {},
          "execution_count": 34
        },
        {
          "output_type": "display_data",
          "data": {
            "text/plain": [
              "<Figure size 432x288 with 1 Axes>"
            ],
            "image/png": "[encoded data removed]"
          },
          "metadata": {
            "needs_background": "light"
          }
        }
      ]
    },
    {
      "cell_type": "code",
      "source": [
        "sns.histplot(df['petal_width'],kde=True)"
      ],
      "metadata": {
        "colab": {
          "base_uri": "https://localhost:8080/",
          "height": 297
        },
        "id": "jdBNh9nFA4lX",
        "outputId": "6cd1620f-be68-435b-e174-2457001fbed1"
      },
      "execution_count": null,
      "outputs": [
        {
          "output_type": "execute_result",
          "data": {
            "text/plain": [
              "<matplotlib.axes._subplots.AxesSubplot at 0x7fb5feb76590>"
            ]
          },
          "metadata": {},
          "execution_count": 35
        },
        {
          "output_type": "display_data",
          "data": {
            "text/plain": [
              "<Figure size 432x288 with 1 Axes>"
            ],
            "image/png": "[encoded data removed]"
          },
          "metadata": {
            "needs_background": "light"
          }
        }
      ]
    },
    {
      "cell_type": "code",
      "source": [
        "## create a normal distributed data\n",
        "s=np.random.normal(0.5,0.2,1000)"
      ],
      "metadata": {
        "id": "faTXf7iQA9jN"
      },
      "execution_count": null,
      "outputs": []
    },
    {
      "cell_type": "code",
      "source": [
        "s"
      ],
      "metadata": {
        "colab": {
          "base_uri": "https://localhost:8080/"
        },
        "id": "OWsx95aqyCl0",
        "outputId": "c2357655-4ae6-48d9-c0a4-6de0fc6809d5"
      },
      "execution_count": null,
      "outputs": [
        {
          "output_type": "execute_result",
          "data": {
            "text/plain": [
              "array([ 0.57322123,  0.31347276,  0.18009811,  0.40589072,  0.4065757 ,\n",
              "        0.4936243 ,  0.49728527,  0.12153091,  0.30262996,  0.31990777,\n",
              "        0.36760375,  0.25358541,  0.20597053,  0.40523501,  0.67333329,\n",
              "        0.91048761,  0.90965105,  0.42709146,  0.58810922,  0.4681445 ,\n",
              "        0.70859298,  0.37931553,  0.46029616,  0.65315614,  0.61590935,\n",
              "        0.3769359 ,  0.36849874,  0.53575888,  0.81138937,  0.37696639,\n",
              "        0.19921841,  0.73992463,  0.55719939,  0.44373447,  0.72692332,\n",
              "        0.31407761,  0.46396172,  0.51190435,  0.34950472,  0.64101915,\n",
              "        0.44721299,  0.71154915,  0.25071745,  0.09091488,  0.12127463,\n",
              "        0.24794534,  0.6685801 ,  0.71778387,  0.58173731,  0.55946739,\n",
              "        0.87581295,  1.02216119,  0.45165612,  0.35690316, -0.01661778,\n",
              "        0.28438316,  0.68872477,  0.5818103 ,  0.3509174 ,  0.78705377,\n",
              "        0.67126128,  0.56377266,  0.49133077,  0.11985507,  0.61499736,\n",
              "        0.7715701 ,  0.54130488,  0.4709847 ,  0.46531144,  0.64417613,\n",
              "        0.78293404,  0.900472  ,  0.67526724,  0.48440433,  0.5418191 ,\n",
              "        0.77196173,  0.73042775,  0.59209376,  0.86205576,  0.74161737,\n",
              "        0.31782262,  0.50039066,  0.52626043,  0.63355085,  0.9412869 ,\n",
              "        0.39240046,  0.1192872 ,  0.32059481,  0.3149372 ,  0.52484636,\n",
              "        0.49862307,  0.55575202,  0.26848878,  0.58107069,  0.53357781,\n",
              "        0.43999853,  0.55479645,  0.54995847,  0.61266457,  0.40429284,\n",
              "        0.50134761,  0.39857472,  0.59333416,  0.49732414,  0.38578535,\n",
              "        0.50039049,  0.44908018,  0.27011115,  0.90825377,  0.38095884,\n",
              "        0.32926088,  0.62998868,  0.73815652,  0.17276822,  0.28442029,\n",
              "        0.70734814,  1.15763136,  0.75755701,  0.85789454,  0.26056274,\n",
              "        0.17074451,  0.40152368,  0.5952    ,  0.51012446,  0.56942584,\n",
              "        0.85133451,  0.52382355,  0.49082409,  0.65346473,  0.50438474,\n",
              "        0.8609028 ,  0.53084655,  0.55835803,  0.52444584,  0.32589484,\n",
              "        0.44717877,  0.3739161 ,  0.39816287,  0.82105077,  0.53142703,\n",
              "        0.38046249,  0.66625591,  0.49826706,  0.06213645,  0.31851282,\n",
              "        0.16400619,  0.85929263,  0.45013238,  0.62151077,  0.28521698,\n",
              "        0.27491512,  0.40881706,  0.60673314,  0.38907054,  0.34629074,\n",
              "        0.33350164,  0.45532956,  0.41802005,  0.36329662,  0.47990007,\n",
              "        0.70836376,  0.27624459,  0.70019877,  0.67186457,  0.5355758 ,\n",
              "        0.32968769,  0.48241189,  0.52493442,  0.18133508,  0.55907215,\n",
              "        0.52391122,  0.40200477,  0.44010176,  0.47168054,  0.439541  ,\n",
              "        0.08341237,  0.60318528,  0.7714184 ,  0.44369978,  0.66953642,\n",
              "        0.87676139,  0.45492603,  0.10040486,  0.66638547,  0.78013893,\n",
              "        0.62882204,  0.45130102,  0.46486675,  0.60544008,  0.41801335,\n",
              "        0.57563327,  0.5326468 ,  0.55944011,  0.43719993,  0.52589106,\n",
              "        0.65847779,  0.79699158,  0.68935772,  0.41819684,  0.28711414,\n",
              "        0.66229741,  0.53260031,  0.69727192,  0.47482966,  0.28959327,\n",
              "        0.3261719 ,  0.47424099,  0.65224209,  0.37667292,  0.48282523,\n",
              "        0.22383272,  0.64263035,  0.74516077,  0.40497234,  0.27966127,\n",
              "        0.54312855,  0.80067429,  0.38947641,  0.21767556,  0.28478547,\n",
              "        0.18852971,  0.28575696,  0.52238064,  0.58378367,  0.51726487,\n",
              "        0.43623189,  0.23585682,  0.35016153,  0.35742921,  0.32099921,\n",
              "        0.54263198,  0.41579818,  0.38070954,  0.5382908 ,  0.50692164,\n",
              "        0.58447708,  0.78849888,  0.17600462,  0.437916  ,  0.74343059,\n",
              "        0.45803702,  0.38422095,  0.21416061,  0.51349555,  0.56679104,\n",
              "        0.37524196,  0.66866484,  0.68294332,  0.72877415,  0.69859908,\n",
              "        0.6778055 ,  0.7197241 ,  0.36552551,  0.32424592,  0.70775576,\n",
              "        0.40854484,  0.13332296,  0.51325204,  0.16438269,  0.75591819,\n",
              "        0.92158178,  0.71324044,  0.81405002,  0.25815426,  0.28667186,\n",
              "        0.65348569,  0.36884022,  0.71170356,  0.41062068,  0.71365418,\n",
              "        0.4083935 ,  0.64021787,  0.0498492 ,  0.11613862,  0.4742201 ,\n",
              "        0.59955443,  0.46555092,  0.97731595,  0.77212653,  0.57097913,\n",
              "        0.38259651,  0.30249372,  0.68450808,  0.41437402,  0.54049997,\n",
              "        0.37749983,  0.72905358,  0.52305241,  0.65064724,  0.59658072,\n",
              "        1.09151106,  0.24180048,  0.68285073,  0.19829132,  0.42486549,\n",
              "        0.62892179,  0.5381708 ,  0.76482825,  0.36268615,  0.4345689 ,\n",
              "        0.36965115,  0.74732804,  0.51851623,  0.24165235,  0.34109068,\n",
              "        0.30727111,  0.87891712,  0.49312622,  0.36967739,  0.31815226,\n",
              "        0.37837125,  0.451612  ,  0.6443359 ,  0.57937466,  0.66691492,\n",
              "        0.54261662,  0.8614694 ,  0.57829992,  0.71228331,  0.41336354,\n",
              "        0.58945634,  0.39032405,  0.25826497,  0.68063789,  0.71390789,\n",
              "       -0.079859  ,  0.63901143,  0.4778448 ,  0.22501849,  0.1274425 ,\n",
              "        0.30107442,  0.05583461,  0.53827193,  0.5049455 ,  0.50532404,\n",
              "        0.74458051,  0.42617751,  0.71084916,  0.36866848,  0.68406092,\n",
              "        0.85235934,  0.15273918,  0.88574395,  0.61221173,  0.39008827,\n",
              "        0.50132553,  0.40194973,  0.62105673,  0.88842289,  0.48026975,\n",
              "        0.75217952,  0.13770168,  0.67453177,  0.21179681,  0.654724  ,\n",
              "        0.3653009 ,  0.61268726,  0.52250266,  0.52624671,  0.84896952,\n",
              "        0.55204683,  0.60072184,  0.39510808,  0.31487168,  0.02031029,\n",
              "        0.02284556,  0.43174043,  0.64642575,  0.77838799,  0.12443638,\n",
              "        0.55181132,  0.72438045,  0.40905405,  0.25349321,  0.14678672,\n",
              "        0.59173386,  0.57997446,  0.49679136,  0.65002173,  0.3407481 ,\n",
              "        0.62009419,  0.89785152,  0.38291707,  0.4789016 ,  0.65331033,\n",
              "        0.58788971,  0.48558228,  0.47290562,  0.92709008,  0.79446585,\n",
              "        0.17264865,  0.43866484,  0.49264797,  0.63474264,  0.61055855,\n",
              "        0.51477983,  0.61050179,  0.56818536,  0.74823499,  0.56717756,\n",
              "        0.22007977,  0.31038858,  0.86695039,  0.45165346,  0.05318754,\n",
              "        0.57435789,  0.49542559,  0.38438122,  0.17402889,  0.45064981,\n",
              "        0.49362415,  0.21534494,  0.28416884,  0.27369095,  0.68478195,\n",
              "        0.78960871,  0.45355748,  0.53813448,  0.42022221,  0.50424004,\n",
              "        0.51879896,  0.47762145,  0.51506696,  0.5179811 , -0.0671283 ,\n",
              "        0.41543569,  0.44596718, -0.00734155,  0.5729983 ,  0.58888143,\n",
              "        0.39921482,  0.62891659,  0.54158386,  0.33968563,  0.50621514,\n",
              "        0.30421826,  0.1872905 ,  0.4006929 ,  0.30803556,  0.43629481,\n",
              "        0.82475831,  0.58008112,  0.62774695,  0.08782887, -0.14237753,\n",
              "        0.422821  ,  0.48730176,  0.92661794,  0.49867417,  0.92596998,\n",
              "        0.88581646,  0.65769474,  0.44750404,  0.42172939,  0.3114587 ,\n",
              "        0.09484695,  0.48575778,  0.66675939,  0.39701586,  0.44367705,\n",
              "        0.46360316,  0.64301091,  0.50585439,  0.60920025,  0.1501633 ,\n",
              "        0.70431516,  0.59185197,  0.90567984,  0.60301044,  0.08645982,\n",
              "        0.28748795,  0.4298508 ,  0.44829671,  0.71278314,  0.7661742 ,\n",
              "        0.70363953,  0.46903524,  0.38890631,  0.60220589,  0.19904565,\n",
              "        0.38701812,  0.52016067,  0.17206903,  0.47521482,  0.57300575,\n",
              "        0.33984681,  0.33472299,  0.54506269,  0.95412256,  0.55670966,\n",
              "        0.70760538,  0.46353216,  0.60366131,  0.39241484,  0.31705997,\n",
              "        0.1488263 ,  0.69721843,  0.45226034,  0.45989633,  0.44536272,\n",
              "        0.55696919,  0.16778044,  0.5904082 ,  0.4201828 ,  0.56126852,\n",
              "        0.47610423,  0.79300818,  0.24723145,  0.6053604 ,  0.20564383,\n",
              "        0.51073392,  0.78124577,  0.65915881,  0.80736607,  0.61847882,\n",
              "        0.46659457,  0.54263745,  0.37128813,  0.39932842,  0.83971304,\n",
              "        0.29307997,  0.69152157,  0.16629542,  0.62287737,  0.23997   ,\n",
              "        0.24280375,  0.21522971,  0.75696861,  0.15496477,  0.43575491,\n",
              "        0.47042973,  0.41514706,  0.58365381,  0.20790486,  0.53500936,\n",
              "        0.85962443,  0.54293205,  0.51442364,  0.69691964,  0.367767  ,\n",
              "        0.73601903,  0.54466288,  0.43254966,  0.5434627 ,  0.46413244,\n",
              "        0.41630922,  0.33132054,  0.32144353,  0.78937531,  0.36612123,\n",
              "        0.35671221,  0.90302667,  0.42456698,  0.47616606,  0.64270437,\n",
              "        0.65682792,  0.55254007,  0.35931947,  0.85446783,  0.39204463,\n",
              "        0.38571575,  0.71244509,  0.50761448,  0.43380397,  0.44217074,\n",
              "        0.70706718,  0.80095128,  0.37861521,  0.45121852,  0.70698892,\n",
              "        0.58415952,  0.56303542,  0.55958773,  0.73201518,  0.81081812,\n",
              "        0.78539196,  0.68111696,  0.22633996,  0.4770945 ,  0.09969986,\n",
              "        0.61727263,  0.54717533,  0.25565418,  0.44538915,  0.38638425,\n",
              "        0.47462971,  0.02633472,  0.42728446,  0.56443416,  0.11930599,\n",
              "        0.43655954,  0.34837712,  0.44378097,  0.16029301,  0.34860007,\n",
              "        0.1853286 ,  0.41299179,  0.4160522 ,  0.65276001,  0.61161336,\n",
              "        0.64133828,  0.31829299, -0.00439165,  0.48793583,  0.36348238,\n",
              "        0.3154354 , -0.06695018,  0.64199465,  0.49266533,  0.57131455,\n",
              "        0.3380343 ,  0.54542281,  0.59859878,  0.39705736,  0.24727842,\n",
              "        0.53237098, -0.09541588,  0.57705256,  0.23477064,  0.34349576,\n",
              "        1.11546786,  0.35333329,  0.72606126,  0.48760824,  1.03445904,\n",
              "        0.30895665,  0.30063086,  0.30735944,  0.29800926,  0.60641109,\n",
              "        0.46684558,  0.43266058,  0.44690314,  0.26686935,  0.248621  ,\n",
              "        0.43259894,  0.30827426,  0.58551803,  0.61588674,  0.25254429,\n",
              "       -0.06325448,  0.35285701,  0.86300199,  0.42405199,  0.31520985,\n",
              "        0.57837629,  0.34369493,  0.42699589,  0.69711788,  0.37205138,\n",
              "        0.37931277,  0.67392902,  0.42002428,  0.74338597,  0.0917684 ,\n",
              "        0.41997853,  0.65249252,  0.480695  ,  0.6466956 ,  0.71771407,\n",
              "        0.1498293 ,  0.19918955,  0.50359518,  0.30616751,  0.64692207,\n",
              "        0.76733729,  1.00096438,  0.50209756,  0.57513706,  0.58651239,\n",
              "        0.28259509,  0.46227774,  0.52545825,  0.72286021,  0.34473689,\n",
              "        0.62944508,  0.42217369,  0.4190193 ,  0.57231724,  0.53813658,\n",
              "        0.46473152,  0.4813263 ,  0.57419085,  0.29723932,  0.90565395,\n",
              "        0.81847642,  0.82264086,  0.34896774,  0.80382418,  0.5493328 ,\n",
              "        0.4219619 ,  0.64462249,  0.39404409,  0.50810812,  0.17728372,\n",
              "        0.5555391 ,  0.66810716,  0.63081474,  0.51567589,  0.21400894,\n",
              "        0.60592924,  0.53701792,  0.57450105,  0.45197345,  0.40907542,\n",
              "        0.71924753,  0.67380065,  0.7767298 ,  0.78063636,  0.60589488,\n",
              "        0.50203568,  0.60864104,  0.57275635,  0.36746551,  0.51034609,\n",
              "        0.53615571,  0.44152478,  0.27700735,  0.60649752,  0.4497987 ,\n",
              "        0.53691806,  0.48720663,  0.62840759,  0.26958571,  0.54530306,\n",
              "        0.3825892 ,  0.75611478,  0.41921322,  0.43888393,  0.19889358,\n",
              "        0.69020877,  0.77532571,  0.49881792,  0.43799695,  0.50653051,\n",
              "        0.4267268 ,  0.74928108,  0.33579303,  0.41020141,  0.18766389,\n",
              "        0.51002238,  0.26220791,  0.5290061 ,  0.51950765,  0.56191258,\n",
              "        0.4732945 ,  0.42977879,  0.44864794,  0.69771377,  0.47707934,\n",
              "        0.31822887,  0.22280267,  0.12076793,  0.27120411,  0.59126572,\n",
              "        0.18270585,  0.72948263,  0.37500581,  0.48216113,  0.75646215,\n",
              "        0.84997958,  0.81987987,  0.38282616,  0.86712256,  0.70343526,\n",
              "        0.52614132,  0.57830226,  0.57343565,  0.50745308,  0.39551467,\n",
              "        0.36566541,  0.52249379,  0.45888403,  0.60195524,  0.40552986,\n",
              "        0.46759777,  0.30351999,  0.68841065,  0.47849227,  0.83742525,\n",
              "        0.54834743,  0.73453176,  0.69610017,  0.45216637,  0.63146975,\n",
              "        0.44081181,  0.33185357,  0.72653733,  0.50347839,  0.4585051 ,\n",
              "        0.59587309,  0.06021088,  0.72798848,  0.34777567,  0.40532972,\n",
              "        0.60542513,  0.35142686,  0.41072264,  0.45767772,  0.92320787,\n",
              "        0.30733173,  0.11314299,  0.99099208,  0.31813123,  0.88697616,\n",
              "        0.4658944 ,  0.45389434,  0.71501588,  0.45338608,  0.55074497,\n",
              "        0.54350995,  0.58880997,  0.69429818,  0.55239668,  0.5035963 ,\n",
              "        0.45082812,  0.48747972,  0.44690636,  0.50671802,  0.37830916,\n",
              "        0.61401941,  0.46615743,  0.83774918,  0.28344518,  0.41155887,\n",
              "        0.33547253,  0.73955772,  0.68071425,  0.21621829,  0.74612256,\n",
              "        0.59096193,  0.24220496,  0.62502042,  0.49145571,  0.67670019,\n",
              "        0.66353305,  0.42068673,  0.33042977,  0.33247453,  0.66138623,\n",
              "        0.32448023,  0.40911062,  0.7666358 ,  0.42991043,  0.69394226,\n",
              "        0.47650151,  0.3961448 ,  0.17262994,  0.55989863,  0.14651061,\n",
              "        0.41002229,  0.47075397,  0.10265752,  0.85131639,  0.44647976,\n",
              "        0.44302614,  0.53768223,  0.78242992,  0.54847377,  0.64757434,\n",
              "        0.60652152,  0.79516868,  0.57531499,  0.18633658,  0.26960492,\n",
              "        0.70151943,  0.55388124,  0.12686808,  0.48293574,  0.49539493,\n",
              "        0.18602053,  0.46136442,  0.8545237 ,  0.67808953,  0.60346019,\n",
              "        0.38335521,  0.17923585,  0.59152943,  0.30044094,  0.22455807,\n",
              "        0.21781323,  0.73410607,  0.42696503,  0.30321246,  0.81418229,\n",
              "        0.17884067,  0.41761476,  0.31521909,  0.33188828,  0.96489334,\n",
              "        0.95812273,  0.49531775,  0.65675504,  0.14118068,  0.7117652 ,\n",
              "        0.73889188,  0.15262862,  0.48514421,  0.54310255,  0.63533813,\n",
              "        0.61181409,  0.87594107,  0.35590242,  0.28409605,  0.42248927,\n",
              "        0.69548403,  0.1061486 ,  0.53077933,  0.43355917,  0.52959914,\n",
              "        0.44977307,  0.30719223,  0.46547124,  0.72610893,  0.79401731,\n",
              "        0.79705144,  0.56458594,  0.17528355,  0.65571608,  0.56729752,\n",
              "        0.55838138,  0.46536452,  0.41986988,  0.69641095,  0.57082434,\n",
              "        0.45613194,  0.62320029,  0.63729024,  0.48328328,  0.60378198,\n",
              "        0.76895483,  0.71233537,  0.38998195, -0.00305404,  0.54979357,\n",
              "        1.0135498 ,  0.35252888,  0.27206773,  0.31058331,  0.60409782,\n",
              "        0.09591402,  0.48285348,  0.68494537,  0.214596  ,  0.48186794,\n",
              "        0.56452137,  0.41656158,  0.64698694,  0.48481721,  0.73917137,\n",
              "        0.57981861,  0.38181772,  0.40796908,  0.70628092,  0.52499336,\n",
              "        0.55830128,  0.22281427,  0.232594  ,  0.61046523,  0.66813063,\n",
              "        0.53131788,  0.44562983,  0.38710654,  0.06316872,  0.39959199,\n",
              "        0.30184682,  0.59977063,  0.46044327,  0.56599373,  0.67694639,\n",
              "        0.36915621,  0.47270872,  0.298344  ,  0.58262912,  0.60580817,\n",
              "       -0.07394404,  0.33556219,  0.37128372,  0.53962272,  0.27159777,\n",
              "        0.60380282,  0.50673818,  0.3807334 ,  0.56489705,  0.60773586,\n",
              "        0.37691119,  0.46044291,  0.53062594,  0.38547095,  0.76477444,\n",
              "        0.83425053,  0.67300073,  0.50411636,  0.64982454,  0.67431078,\n",
              "        0.60143514,  0.47683811,  0.29380672,  0.25912461,  0.62029107])"
            ]
          },
          "metadata": {},
          "execution_count": 37
        }
      ]
    },
    {
      "cell_type": "code",
      "source": [
        "sns.histplot(s,kde=True)"
      ],
      "metadata": {
        "colab": {
          "base_uri": "https://localhost:8080/",
          "height": 282
        },
        "id": "bI0aAyb8BXXF",
        "outputId": "715995d8-a9c4-40f9-efcf-48cdc7bf1228"
      },
      "execution_count": null,
      "outputs": [
        {
          "output_type": "execute_result",
          "data": {
            "text/plain": [
              "<matplotlib.axes._subplots.AxesSubplot at 0x7fb5feb9b650>"
            ]
          },
          "metadata": {},
          "execution_count": 38
        },
        {
          "output_type": "display_data",
          "data": {
            "text/plain": [
              "<Figure size 432x288 with 1 Axes>"
            ],
            "image/png": "[encoded data removed]"
          },
          "metadata": {
            "needs_background": "light"
          }
        }
      ]
    },
    {
      "cell_type": "markdown",
      "source": [
        "## Other Distribuiton\n",
        "## Log Normal Distribution,Power Law Distribution"
      ],
      "metadata": {
        "id": "Gf56NYmLBnSx"
      }
    },
    {
      "cell_type": "code",
      "source": [
        "mu, sigma = 3., 1. # mean and standard deviation\n",
        "s = np.random.lognormal(mu, sigma, 1000)"
      ],
      "metadata": {
        "id": "AxwUR4MhBe3h"
      },
      "execution_count": null,
      "outputs": []
    },
    {
      "cell_type": "code",
      "source": [
        "sns.histplot(s,kde=True)"
      ],
      "metadata": {
        "colab": {
          "base_uri": "https://localhost:8080/",
          "height": 283
        },
        "id": "pAJ2U-X9vAUb",
        "outputId": "223c1c89-ec7a-4dce-e071-0ca66cc458d5"
      },
      "execution_count": null,
      "outputs": [
        {
          "output_type": "execute_result",
          "data": {
            "text/plain": [
              "<matplotlib.axes._subplots.AxesSubplot at 0x7fb5fe885590>"
            ]
          },
          "metadata": {},
          "execution_count": 44
        },
        {
          "output_type": "display_data",
          "data": {
            "text/plain": [
              "<Figure size 432x288 with 1 Axes>"
            ],
            "image/png": "[encoded data removed]"
          },
          "metadata": {
            "needs_background": "light"
          }
        }
      ]
    },
    {
      "cell_type": "code",
      "source": [
        "sns.histplot(np.log(s),kde=True)"
      ],
      "metadata": {
        "colab": {
          "base_uri": "https://localhost:8080/",
          "height": 285
        },
        "id": "y-ib7u1BvJya",
        "outputId": "a3dab4e1-73d6-4c3e-d639-b3502c0dc059"
      },
      "execution_count": null,
      "outputs": [
        {
          "output_type": "execute_result",
          "data": {
            "text/plain": [
              "<matplotlib.axes._subplots.AxesSubplot at 0x7fb5fe926e90>"
            ]
          },
          "metadata": {},
          "execution_count": 45
        },
        {
          "output_type": "display_data",
          "data": {
            "text/plain": [
              "<Figure size 432x288 with 1 Axes>"
            ],
            "image/png": "[encoded data removed]"
          },
          "metadata": {
            "needs_background": "light"
          }
        }
      ]
    },
    {
      "cell_type": "markdown",
      "source": [
        "## Check whether Disstribution is Normal Distribution"
      ],
      "metadata": {
        "id": "xTa-Hua3anqQ"
      }
    },
    {
      "cell_type": "code",
      "source": [
        "#### If you want to check whether feature is guassian or normal distributed\n",
        "#### Q-Q plot\n",
        "import matplotlib.pyplot as plt\n",
        "import scipy.stats as stat\n",
        "import pylab\n",
        "def plot_data(sample):\n",
        "    plt.figure(figsize=(10,6))\n",
        "    plt.subplot(1,2,1)\n",
        "    sns.histplot(sample)\n",
        "    plt.subplot(1,2,2)\n",
        "    stat.probplot(sample,dist='norm',plot=pylab)\n",
        "    plt.show()\n"
      ],
      "metadata": {
        "id": "Qb1IOWy2XwFk"
      },
      "execution_count": null,
      "outputs": []
    },
    {
      "cell_type": "code",
      "source": [
        "## create a normal distributed data\n",
        "s=np.random.normal(0.5,0.2,1000)\n",
        "plot_data(s)"
      ],
      "metadata": {
        "colab": {
          "base_uri": "https://localhost:8080/",
          "height": 404
        },
        "id": "M4nB15JRcCn6",
        "outputId": "bdf5615f-eb5d-4ad5-f5f0-718ae295207b"
      },
      "execution_count": null,
      "outputs": [
        {
          "output_type": "display_data",
          "data": {
            "text/plain": [
              "<Figure size 720x432 with 2 Axes>"
            ],
            "image/png": "[encoded data removed]"
          },
          "metadata": {
            "needs_background": "light"
          }
        }
      ]
    },
    {
      "cell_type": "code",
      "source": [
        "plot_data(df['sepal_width'])"
      ],
      "metadata": {
        "colab": {
          "base_uri": "https://localhost:8080/",
          "height": 405
        },
        "id": "-Yyo3miWy9L_",
        "outputId": "63d27807-7702-47f6-957b-137b7e06f1b0"
      },
      "execution_count": null,
      "outputs": [
        {
          "output_type": "display_data",
          "data": {
            "text/plain": [
              "<Figure size 720x432 with 2 Axes>"
            ],
            "image/png": "[encoded data removed]"
          },
          "metadata": {
            "needs_background": "light"
          }
        }
      ]
    },
    {
      "cell_type": "code",
      "source": [
        "mu, sigma = 3., 1. # mean and standard deviation\n",
        "sample = np.random.lognormal(mu, sigma, 100)"
      ],
      "metadata": {
        "id": "PO1I0DwIc1BA"
      },
      "execution_count": null,
      "outputs": []
    },
    {
      "cell_type": "code",
      "source": [
        "def plot_data_log(sample):\n",
        "    plt.figure(figsize=(10,6))\n",
        "    plt.subplot(1,2,1)\n",
        "    sns.histplot(sample)\n",
        "    plt.subplot(1,2,2)\n",
        "    stat.probplot(np.log(sample),dist='norm',plot=pylab)\n",
        "    plt.show()"
      ],
      "metadata": {
        "id": "bxwQ8lvXdkII"
      },
      "execution_count": null,
      "outputs": []
    },
    {
      "cell_type": "code",
      "source": [
        "plot_data_log(sample)"
      ],
      "metadata": {
        "colab": {
          "base_uri": "https://localhost:8080/",
          "height": 404
        },
        "id": "RKVE63etduA5",
        "outputId": "0a9906a9-0a30-4e43-9abc-1e6e5d3e4ea9"
      },
      "execution_count": null,
      "outputs": [
        {
          "output_type": "display_data",
          "data": {
            "text/plain": [
              "<Figure size 720x432 with 2 Axes>"
            ],
            "image/png": "[encoded data removed]"
          },
          "metadata": {
            "needs_background": "light"
          }
        }
      ]
    },
    {
      "cell_type": "markdown",
      "source": [
        "##Pearson and Sperman Rank Correlation"
      ],
      "metadata": {
        "id": "ftLBDio6geoC"
      }
    },
    {
      "cell_type": "code",
      "source": [
        "df=sns.load_dataset('tips')"
      ],
      "metadata": {
        "id": "Ya-tDpz-dx60"
      },
      "execution_count": null,
      "outputs": []
    },
    {
      "cell_type": "code",
      "source": [
        "df.head()"
      ],
      "metadata": {
        "colab": {
          "base_uri": "https://localhost:8080/",
          "height": 206
        },
        "id": "WeWHXfytheMV",
        "outputId": "d62b1d9c-b27a-4b2e-b2ba-3044fc531535"
      },
      "execution_count": null,
      "outputs": [
        {
          "output_type": "execute_result",
          "data": {
            "text/plain": [
              "   total_bill   tip     sex smoker  day    time  size\n",
              "0       16.99  1.01  Female     No  Sun  Dinner     2\n",
              "1       10.34  1.66    Male     No  Sun  Dinner     3\n",
              "2       21.01  3.50    Male     No  Sun  Dinner     3\n",
              "3       23.68  3.31    Male     No  Sun  Dinner     2\n",
              "4       24.59  3.61  Female     No  Sun  Dinner     4"
            ],
            "text/html": [
              "\n",
              "  <div id=\"df-6137504f-645e-45e3-ab9a-0cfc1686505e\">\n",
              "    <div class=\"colab-df-container\">\n",
              "      <div>\n",
              "<style scoped>\n",
              "    .dataframe tbody tr th:only-of-type {\n",
              "        vertical-align: middle;\n",
              "    }\n",
              "\n",
              "    .dataframe tbody tr th {\n",
              "        vertical-align: top;\n",
              "    }\n",
              "\n",
              "    .dataframe thead th {\n",
              "        text-align: right;\n",
              "    }\n",
              "</style>\n",
              "<table border=\"1\" class=\"dataframe\">\n",
              "  <thead>\n",
              "    <tr style=\"text-align: right;\">\n",
              "      <th></th>\n",
              "      <th>total_bill</th>\n",
              "      <th>tip</th>\n",
              "      <th>sex</th>\n",
              "      <th>smoker</th>\n",
              "      <th>day</th>\n",
              "      <th>time</th>\n",
              "      <th>size</th>\n",
              "    </tr>\n",
              "  </thead>\n",
              "  <tbody>\n",
              "    <tr>\n",
              "      <th>0</th>\n",
              "      <td>16.99</td>\n",
              "      <td>1.01</td>\n",
              "      <td>Female</td>\n",
              "      <td>No</td>\n",
              "      <td>Sun</td>\n",
              "      <td>Dinner</td>\n",
              "      <td>2</td>\n",
              "    </tr>\n",
              "    <tr>\n",
              "      <th>1</th>\n",
              "      <td>10.34</td>\n",
              "      <td>1.66</td>\n",
              "      <td>Male</td>\n",
              "      <td>No</td>\n",
              "      <td>Sun</td>\n",
              "      <td>Dinner</td>\n",
              "      <td>3</td>\n",
              "    </tr>\n",
              "    <tr>\n",
              "      <th>2</th>\n",
              "      <td>21.01</td>\n",
              "      <td>3.50</td>\n",
              "      <td>Male</td>\n",
              "      <td>No</td>\n",
              "      <td>Sun</td>\n",
              "      <td>Dinner</td>\n",
              "      <td>3</td>\n",
              "    </tr>\n",
              "    <tr>\n",
              "      <th>3</th>\n",
              "      <td>23.68</td>\n",
              "      <td>3.31</td>\n",
              "      <td>Male</td>\n",
              "      <td>No</td>\n",
              "      <td>Sun</td>\n",
              "      <td>Dinner</td>\n",
              "      <td>2</td>\n",
              "    </tr>\n",
              "    <tr>\n",
              "      <th>4</th>\n",
              "      <td>24.59</td>\n",
              "      <td>3.61</td>\n",
              "      <td>Female</td>\n",
              "      <td>No</td>\n",
              "      <td>Sun</td>\n",
              "      <td>Dinner</td>\n",
              "      <td>4</td>\n",
              "    </tr>\n",
              "  </tbody>\n",
              "</table>\n",
              "</div>\n",
              "      <button class=\"colab-df-convert\" onclick=\"convertToInteractive('df-6137504f-645e-45e3-ab9a-0cfc1686505e')\"\n",
              "              title=\"Convert this dataframe to an interactive table.\"\n",
              "              style=\"display:none;\">\n",
              "        \n",
              "  <svg xmlns=\"http://www.w3.org/2000/svg\" height=\"24px\"viewBox=\"0 0 24 24\"\n",
              "       width=\"24px\">\n",
              "    <path d=\"M0 0h24v24H0V0z\" fill=\"none\"/>\n",
              "    <path d=\"M18.56 5.44l.94 2.06.94-2.06 2.06-.94-2.06-.94-.94-2.06-.94 2.06-2.06.94zm-11 1L8.5 8.5l.94-2.06 2.06-.94-2.06-.94L8.5 2.5l-.94 2.06-2.06.94zm10 10l.94 2.06.94-2.06 2.06-.94-2.06-.94-.94-2.06-.94 2.06-2.06.94z\"/><path d=\"M17.41 7.96l-1.37-1.37c-.4-.4-.92-.59-1.43-.59-.52 0-1.04.2-1.43.59L10.3 9.45l-7.72 7.72c-.78.78-.78 2.05 0 2.83L4 21.41c.39.39.9.59 1.41.59.51 0 1.02-.2 1.41-.59l7.78-7.78 2.81-2.81c.8-.78.8-2.07 0-2.86zM5.41 20L4 18.59l7.72-7.72 1.47 1.35L5.41 20z\"/>\n",
              "  </svg>\n",
              "      </button>\n",
              "      \n",
              "  <style>\n",
              "    .colab-df-container {\n",
              "      display:flex;\n",
              "      flex-wrap:wrap;\n",
              "      gap: 12px;\n",
              "    }\n",
              "\n",
              "    .colab-df-convert {\n",
              "      background-color: #E8F0FE;\n",
              "      border: none;\n",
              "      border-radius: 50%;\n",
              "      cursor: pointer;\n",
              "      display: none;\n",
              "      fill: #1967D2;\n",
              "      height: 32px;\n",
              "      padding: 0 0 0 0;\n",
              "      width: 32px;\n",
              "    }\n",
              "\n",
              "    .colab-df-convert:hover {\n",
              "      background-color: #E2EBFA;\n",
              "      box-shadow: 0px 1px 2px rgba(60, 64, 67, 0.3), 0px 1px 3px 1px rgba(60, 64, 67, 0.15);\n",
              "      fill: #174EA6;\n",
              "    }\n",
              "\n",
              "    [theme=dark] .colab-df-convert {\n",
              "      background-color: #3B4455;\n",
              "      fill: #D2E3FC;\n",
              "    }\n",
              "\n",
              "    [theme=dark] .colab-df-convert:hover {\n",
              "      background-color: #434B5C;\n",
              "      box-shadow: 0px 1px 3px 1px rgba(0, 0, 0, 0.15);\n",
              "      filter: drop-shadow(0px 1px 2px rgba(0, 0, 0, 0.3));\n",
              "      fill: #FFFFFF;\n",
              "    }\n",
              "  </style>\n",
              "\n",
              "      <script>\n",
              "        const buttonEl =\n",
              "          document.querySelector('#df-6137504f-645e-45e3-ab9a-0cfc1686505e button.colab-df-convert');\n",
              "        buttonEl.style.display =\n",
              "          google.colab.kernel.accessAllowed ? 'block' : 'none';\n",
              "\n",
              "        async function convertToInteractive(key) {\n",
              "          const element = document.querySelector('#df-6137504f-645e-45e3-ab9a-0cfc1686505e');\n",
              "          const dataTable =\n",
              "            await google.colab.kernel.invokeFunction('convertToInteractive',\n",
              "                                                     [key], {});\n",
              "          if (!dataTable) return;\n",
              "\n",
              "          const docLinkHtml = 'Like what you see? Visit the ' +\n",
              "            '<a target=\"_blank\" href=https://colab.research.google.com/notebooks/data_table.ipynb>data table notebook</a>'\n",
              "            + ' to learn more about interactive tables.';\n",
              "          element.innerHTML = '';\n",
              "          dataTable['output_type'] = 'display_data';\n",
              "          await google.colab.output.renderOutput(dataTable, element);\n",
              "          const docLink = document.createElement('div');\n",
              "          docLink.innerHTML = docLinkHtml;\n",
              "          element.appendChild(docLink);\n",
              "        }\n",
              "      </script>\n",
              "    </div>\n",
              "  </div>\n",
              "  "
            ]
          },
          "metadata": {},
          "execution_count": 53
        }
      ]
    },
    {
      "cell_type": "code",
      "source": [
        "import pandas as pd"
      ],
      "metadata": {
        "id": "qiRgm-nWgngu"
      },
      "execution_count": null,
      "outputs": []
    },
    {
      "cell_type": "code",
      "source": [
        "df.corr()"
      ],
      "metadata": {
        "colab": {
          "base_uri": "https://localhost:8080/",
          "height": 143
        },
        "id": "XcLN956ihZP5",
        "outputId": "bbb6e02e-d815-4140-b665-1be7c62ad9fb"
      },
      "execution_count": null,
      "outputs": [
        {
          "output_type": "execute_result",
          "data": {
            "text/plain": [
              "            total_bill       tip      size\n",
              "total_bill    1.000000  0.675734  0.598315\n",
              "tip           0.675734  1.000000  0.489299\n",
              "size          0.598315  0.489299  1.000000"
            ],
            "text/html": [
              "\n",
              "  <div id=\"df-339e6797-d455-4ca4-a93d-bb11a07f8269\">\n",
              "    <div class=\"colab-df-container\">\n",
              "      <div>\n",
              "<style scoped>\n",
              "    .dataframe tbody tr th:only-of-type {\n",
              "        vertical-align: middle;\n",
              "    }\n",
              "\n",
              "    .dataframe tbody tr th {\n",
              "        vertical-align: top;\n",
              "    }\n",
              "\n",
              "    .dataframe thead th {\n",
              "        text-align: right;\n",
              "    }\n",
              "</style>\n",
              "<table border=\"1\" class=\"dataframe\">\n",
              "  <thead>\n",
              "    <tr style=\"text-align: right;\">\n",
              "      <th></th>\n",
              "      <th>total_bill</th>\n",
              "      <th>tip</th>\n",
              "      <th>size</th>\n",
              "    </tr>\n",
              "  </thead>\n",
              "  <tbody>\n",
              "    <tr>\n",
              "      <th>total_bill</th>\n",
              "      <td>1.000000</td>\n",
              "      <td>0.675734</td>\n",
              "      <td>0.598315</td>\n",
              "    </tr>\n",
              "    <tr>\n",
              "      <th>tip</th>\n",
              "      <td>0.675734</td>\n",
              "      <td>1.000000</td>\n",
              "      <td>0.489299</td>\n",
              "    </tr>\n",
              "    <tr>\n",
              "      <th>size</th>\n",
              "      <td>0.598315</td>\n",
              "      <td>0.489299</td>\n",
              "      <td>1.000000</td>\n",
              "    </tr>\n",
              "  </tbody>\n",
              "</table>\n",
              "</div>\n",
              "      <button class=\"colab-df-convert\" onclick=\"convertToInteractive('df-339e6797-d455-4ca4-a93d-bb11a07f8269')\"\n",
              "              title=\"Convert this dataframe to an interactive table.\"\n",
              "              style=\"display:none;\">\n",
              "        \n",
              "  <svg xmlns=\"http://www.w3.org/2000/svg\" height=\"24px\"viewBox=\"0 0 24 24\"\n",
              "       width=\"24px\">\n",
              "    <path d=\"M0 0h24v24H0V0z\" fill=\"none\"/>\n",
              "    <path d=\"M18.56 5.44l.94 2.06.94-2.06 2.06-.94-2.06-.94-.94-2.06-.94 2.06-2.06.94zm-11 1L8.5 8.5l.94-2.06 2.06-.94-2.06-.94L8.5 2.5l-.94 2.06-2.06.94zm10 10l.94 2.06.94-2.06 2.06-.94-2.06-.94-.94-2.06-.94 2.06-2.06.94z\"/><path d=\"M17.41 7.96l-1.37-1.37c-.4-.4-.92-.59-1.43-.59-.52 0-1.04.2-1.43.59L10.3 9.45l-7.72 7.72c-.78.78-.78 2.05 0 2.83L4 21.41c.39.39.9.59 1.41.59.51 0 1.02-.2 1.41-.59l7.78-7.78 2.81-2.81c.8-.78.8-2.07 0-2.86zM5.41 20L4 18.59l7.72-7.72 1.47 1.35L5.41 20z\"/>\n",
              "  </svg>\n",
              "      </button>\n",
              "      \n",
              "  <style>\n",
              "    .colab-df-container {\n",
              "      display:flex;\n",
              "      flex-wrap:wrap;\n",
              "      gap: 12px;\n",
              "    }\n",
              "\n",
              "    .colab-df-convert {\n",
              "      background-color: #E8F0FE;\n",
              "      border: none;\n",
              "      border-radius: 50%;\n",
              "      cursor: pointer;\n",
              "      display: none;\n",
              "      fill: #1967D2;\n",
              "      height: 32px;\n",
              "      padding: 0 0 0 0;\n",
              "      width: 32px;\n",
              "    }\n",
              "\n",
              "    .colab-df-convert:hover {\n",
              "      background-color: #E2EBFA;\n",
              "      box-shadow: 0px 1px 2px rgba(60, 64, 67, 0.3), 0px 1px 3px 1px rgba(60, 64, 67, 0.15);\n",
              "      fill: #174EA6;\n",
              "    }\n",
              "\n",
              "    [theme=dark] .colab-df-convert {\n",
              "      background-color: #3B4455;\n",
              "      fill: #D2E3FC;\n",
              "    }\n",
              "\n",
              "    [theme=dark] .colab-df-convert:hover {\n",
              "      background-color: #434B5C;\n",
              "      box-shadow: 0px 1px 3px 1px rgba(0, 0, 0, 0.15);\n",
              "      filter: drop-shadow(0px 1px 2px rgba(0, 0, 0, 0.3));\n",
              "      fill: #FFFFFF;\n",
              "    }\n",
              "  </style>\n",
              "\n",
              "      <script>\n",
              "        const buttonEl =\n",
              "          document.querySelector('#df-339e6797-d455-4ca4-a93d-bb11a07f8269 button.colab-df-convert');\n",
              "        buttonEl.style.display =\n",
              "          google.colab.kernel.accessAllowed ? 'block' : 'none';\n",
              "\n",
              "        async function convertToInteractive(key) {\n",
              "          const element = document.querySelector('#df-339e6797-d455-4ca4-a93d-bb11a07f8269');\n",
              "          const dataTable =\n",
              "            await google.colab.kernel.invokeFunction('convertToInteractive',\n",
              "                                                     [key], {});\n",
              "          if (!dataTable) return;\n",
              "\n",
              "          const docLinkHtml = 'Like what you see? Visit the ' +\n",
              "            '<a target=\"_blank\" href=https://colab.research.google.com/notebooks/data_table.ipynb>data table notebook</a>'\n",
              "            + ' to learn more about interactive tables.';\n",
              "          element.innerHTML = '';\n",
              "          dataTable['output_type'] = 'display_data';\n",
              "          await google.colab.output.renderOutput(dataTable, element);\n",
              "          const docLink = document.createElement('div');\n",
              "          docLink.innerHTML = docLinkHtml;\n",
              "          element.appendChild(docLink);\n",
              "        }\n",
              "      </script>\n",
              "    </div>\n",
              "  </div>\n",
              "  "
            ]
          },
          "metadata": {},
          "execution_count": 55
        }
      ]
    },
    {
      "cell_type": "code",
      "source": [
        "sns.pairplot(df)"
      ],
      "metadata": {
        "colab": {
          "base_uri": "https://localhost:8080/",
          "height": 567
        },
        "id": "JiDo-dkHhb3Q",
        "outputId": "32cc72f3-a242-4ec7-cf6b-7314218cadf8"
      },
      "execution_count": null,
      "outputs": [
        {
          "output_type": "execute_result",
          "data": {
            "text/plain": [
              "<seaborn.axisgrid.PairGrid at 0x7fb5fe3d8b50>"
            ]
          },
          "metadata": {},
          "execution_count": 56
        },
        {
          "output_type": "display_data",
          "data": {
            "text/plain": [
              "<Figure size 540x540 with 12 Axes>"
            ],
            "image/png": "[encoded data removed]"
          },
          "metadata": {
            "needs_background": "light"
          }
        }
      ]
    },
    {
      "cell_type": "code",
      "source": [],
      "metadata": {
        "id": "vbTNc6UVnKsf"
      },
      "execution_count": null,
      "outputs": []
    }
  ]
}